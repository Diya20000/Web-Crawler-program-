{
 "cells": [
  {
   "cell_type": "code",
   "execution_count": 9,
   "id": "d9c8be5e",
   "metadata": {},
   "outputs": [],
   "source": [
    "import requests\n",
    "from bs4 import BeautifulSoup\n",
    "import csv\n",
    "\n",
    "# Define the parameters\n",
    "parameters = {\n",
    "    \"Primary Category\": \"Medical Journal\",\n",
    "    \"Secondary Category\": \"Orthopedic\",\n",
    "    \"Geography\": \"India\",\n",
    "    \"Date Range\": \"2022\"\n",
    "}\n",
    "\n",
    "# Send a request to a search engine with the parameters\n",
    "url = \"https://www.google.com/search?q=medical+journal+orthopedic+india+2022\"\n",
    "r = requests.get(url)\n",
    "\n",
    "# Parse the HTML content of the page\n",
    "soup = BeautifulSoup(r.content, \"html.parser\")\n",
    "\n",
    "# Find all the URLs in the page\n",
    "links = soup.find_all(\"a\")\n",
    "\n",
    "# Filter the URLs to only include relevant ones\n",
    "urls = []\n",
    "for link in links:\n",
    "    href = link.get(\"href\")\n",
    "    if href.startswith(\"/url?q=\"):\n",
    "        url = href.replace(\"/url?q=\", \"\").split(\"&sa=\")[0]\n",
    "        urls.append(url)\n",
    "\n",
    "# Write the URLs to a CSV file\n",
    "with open(\"urls.csv\", \"w\") as file:\n",
    "    writer = csv.writer(file)\n",
    "    writer.writerow([\"URL\"])\n",
    "    for url in urls:\n",
    "        writer.writerow([url])"
   ]
  },
  {
   "cell_type": "code",
   "execution_count": null,
   "id": "5429b6eb",
   "metadata": {},
   "outputs": [],
   "source": []
  }
 ],
 "metadata": {
  "kernelspec": {
   "display_name": "Python 3",
   "language": "python",
   "name": "python3"
  },
  "language_info": {
   "codemirror_mode": {
    "name": "ipython",
    "version": 3
   },
   "file_extension": ".py",
   "mimetype": "text/x-python",
   "name": "python",
   "nbconvert_exporter": "python",
   "pygments_lexer": "ipython3",
   "version": "3.8.8"
  }
 },
 "nbformat": 4,
 "nbformat_minor": 5
}
